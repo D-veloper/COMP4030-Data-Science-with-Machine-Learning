{
 "cells": [
  {
   "cell_type": "code",
   "execution_count": 1,
   "id": "cf66a7a9-c3b8-4a30-8b59-29b4c4867624",
   "metadata": {},
   "outputs": [],
   "source": [
    "import pandas as pd"
   ]
  },
  {
   "cell_type": "code",
   "execution_count": 2,
   "id": "4ec47571-1b48-4d7b-a90b-5d1b1165457a",
   "metadata": {},
   "outputs": [],
   "source": [
    "df = pd.read_csv('imu_data.csv').iloc[:10, 0:1]"
   ]
  },
  {
   "cell_type": "code",
   "execution_count": 3,
   "id": "6a4509af-8af8-4e5c-ac5b-5aa8764cac5f",
   "metadata": {},
   "outputs": [
    {
     "data": {
      "text/html": [
       "<div>\n",
       "<style scoped>\n",
       "    .dataframe tbody tr th:only-of-type {\n",
       "        vertical-align: middle;\n",
       "    }\n",
       "\n",
       "    .dataframe tbody tr th {\n",
       "        vertical-align: top;\n",
       "    }\n",
       "\n",
       "    .dataframe thead th {\n",
       "        text-align: right;\n",
       "    }\n",
       "</style>\n",
       "<table border=\"1\" class=\"dataframe\">\n",
       "  <thead>\n",
       "    <tr style=\"text-align: right;\">\n",
       "      <th></th>\n",
       "      <th>accelerometer</th>\n",
       "    </tr>\n",
       "  </thead>\n",
       "  <tbody>\n",
       "    <tr>\n",
       "      <th>0</th>\n",
       "      <td>0.903738</td>\n",
       "    </tr>\n",
       "    <tr>\n",
       "      <th>1</th>\n",
       "      <td>0.834571</td>\n",
       "    </tr>\n",
       "    <tr>\n",
       "      <th>2</th>\n",
       "      <td>1.160288</td>\n",
       "    </tr>\n",
       "    <tr>\n",
       "      <th>3</th>\n",
       "      <td>1.106549</td>\n",
       "    </tr>\n",
       "    <tr>\n",
       "      <th>4</th>\n",
       "      <td>0.931808</td>\n",
       "    </tr>\n",
       "    <tr>\n",
       "      <th>5</th>\n",
       "      <td>0.935102</td>\n",
       "    </tr>\n",
       "    <tr>\n",
       "      <th>6</th>\n",
       "      <td>1.080836</td>\n",
       "    </tr>\n",
       "    <tr>\n",
       "      <th>7</th>\n",
       "      <td>0.956375</td>\n",
       "    </tr>\n",
       "    <tr>\n",
       "      <th>8</th>\n",
       "      <td>1.033354</td>\n",
       "    </tr>\n",
       "    <tr>\n",
       "      <th>9</th>\n",
       "      <td>0.914597</td>\n",
       "    </tr>\n",
       "  </tbody>\n",
       "</table>\n",
       "</div>"
      ],
      "text/plain": [
       "   accelerometer\n",
       "0       0.903738\n",
       "1       0.834571\n",
       "2       1.160288\n",
       "3       1.106549\n",
       "4       0.931808\n",
       "5       0.935102\n",
       "6       1.080836\n",
       "7       0.956375\n",
       "8       1.033354\n",
       "9       0.914597"
      ]
     },
     "execution_count": 3,
     "metadata": {},
     "output_type": "execute_result"
    }
   ],
   "source": [
    "df"
   ]
  },
  {
   "cell_type": "code",
   "execution_count": 8,
   "id": "51534f36-9e07-41f2-9898-f888f5d261ba",
   "metadata": {},
   "outputs": [],
   "source": [
    "rolling_metric_tables = []\n",
    "\n",
    "rolling_metrics_surface = df.rolling(window=3).agg(['mean', 'std'])\n",
    "\n",
    "rolling_metric_tables.append(rolling_metrics_surface)"
   ]
  },
  {
   "cell_type": "code",
   "execution_count": 9,
   "id": "879fd583-e78a-400c-9f5b-7e671b7b12cd",
   "metadata": {},
   "outputs": [
    {
     "data": {
      "text/plain": [
       "[  accelerometer          \n",
       "            mean       std\n",
       " 0           NaN       NaN\n",
       " 1           NaN       NaN\n",
       " 2      0.966199  0.171607\n",
       " 3      1.033803  0.174619\n",
       " 4      1.066215  0.119461\n",
       " 5      0.991153  0.099950\n",
       " 6      0.982582  0.085106\n",
       " 7      0.990771  0.078720\n",
       " 8      1.023522  0.062810\n",
       " 9      0.968109  0.060242]"
      ]
     },
     "execution_count": 9,
     "metadata": {},
     "output_type": "execute_result"
    }
   ],
   "source": [
    "rolling_metric_tables"
   ]
  },
  {
   "cell_type": "code",
   "execution_count": 10,
   "id": "b19270a1-3789-4f9a-a970-0bf0896baf9a",
   "metadata": {},
   "outputs": [],
   "source": [
    "windows = df.rolling(3)"
   ]
  },
  {
   "cell_type": "code",
   "execution_count": 11,
   "id": "a357922c-a0df-4797-944b-b08881a4a422",
   "metadata": {},
   "outputs": [],
   "source": [
    "moving_averages = windows.mean()"
   ]
  },
  {
   "cell_type": "code",
   "execution_count": 12,
   "id": "62ab21a5-5771-4c06-9c25-43114eaa064c",
   "metadata": {},
   "outputs": [
    {
     "data": {
      "text/html": [
       "<div>\n",
       "<style scoped>\n",
       "    .dataframe tbody tr th:only-of-type {\n",
       "        vertical-align: middle;\n",
       "    }\n",
       "\n",
       "    .dataframe tbody tr th {\n",
       "        vertical-align: top;\n",
       "    }\n",
       "\n",
       "    .dataframe thead th {\n",
       "        text-align: right;\n",
       "    }\n",
       "</style>\n",
       "<table border=\"1\" class=\"dataframe\">\n",
       "  <thead>\n",
       "    <tr style=\"text-align: right;\">\n",
       "      <th></th>\n",
       "      <th>accelerometer</th>\n",
       "    </tr>\n",
       "  </thead>\n",
       "  <tbody>\n",
       "    <tr>\n",
       "      <th>0</th>\n",
       "      <td>NaN</td>\n",
       "    </tr>\n",
       "    <tr>\n",
       "      <th>1</th>\n",
       "      <td>NaN</td>\n",
       "    </tr>\n",
       "    <tr>\n",
       "      <th>2</th>\n",
       "      <td>0.966199</td>\n",
       "    </tr>\n",
       "    <tr>\n",
       "      <th>3</th>\n",
       "      <td>1.033803</td>\n",
       "    </tr>\n",
       "    <tr>\n",
       "      <th>4</th>\n",
       "      <td>1.066215</td>\n",
       "    </tr>\n",
       "    <tr>\n",
       "      <th>5</th>\n",
       "      <td>0.991153</td>\n",
       "    </tr>\n",
       "    <tr>\n",
       "      <th>6</th>\n",
       "      <td>0.982582</td>\n",
       "    </tr>\n",
       "    <tr>\n",
       "      <th>7</th>\n",
       "      <td>0.990771</td>\n",
       "    </tr>\n",
       "    <tr>\n",
       "      <th>8</th>\n",
       "      <td>1.023522</td>\n",
       "    </tr>\n",
       "    <tr>\n",
       "      <th>9</th>\n",
       "      <td>0.968109</td>\n",
       "    </tr>\n",
       "  </tbody>\n",
       "</table>\n",
       "</div>"
      ],
      "text/plain": [
       "   accelerometer\n",
       "0            NaN\n",
       "1            NaN\n",
       "2       0.966199\n",
       "3       1.033803\n",
       "4       1.066215\n",
       "5       0.991153\n",
       "6       0.982582\n",
       "7       0.990771\n",
       "8       1.023522\n",
       "9       0.968109"
      ]
     },
     "execution_count": 12,
     "metadata": {},
     "output_type": "execute_result"
    }
   ],
   "source": [
    "moving_averages"
   ]
  },
  {
   "cell_type": "code",
   "execution_count": null,
   "id": "1ad5e2f7-bec7-4290-b97e-e0aa56152fe7",
   "metadata": {},
   "outputs": [],
   "source": []
  }
 ],
 "metadata": {
  "kernelspec": {
   "display_name": "Python 3 (ipykernel)",
   "language": "python",
   "name": "python3"
  },
  "language_info": {
   "codemirror_mode": {
    "name": "ipython",
    "version": 3
   },
   "file_extension": ".py",
   "mimetype": "text/x-python",
   "name": "python",
   "nbconvert_exporter": "python",
   "pygments_lexer": "ipython3",
   "version": "3.11.7"
  }
 },
 "nbformat": 4,
 "nbformat_minor": 5
}
