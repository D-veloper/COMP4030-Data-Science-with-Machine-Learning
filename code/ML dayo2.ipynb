{
 "cells": [
  {
   "cell_type": "code",
   "execution_count": 1,
   "id": "d6f39c3a-4c4c-422a-9fa4-76f46f932281",
   "metadata": {},
   "outputs": [],
   "source": [
    "import pandas as pd\n",
    "\n",
    "import numpy as np\n",
    "\n",
    "from scipy.signal import welch\n",
    "\n",
    "from scipy.stats import skew, kurtosis\n",
    "\n",
    "from sklearn.preprocessing import OrdinalEncoder\n",
    "\n",
    "from sklearn.preprocessing import StandardScaler\n",
    "\n",
    "from sklearn.svm import SVC\n",
    "\n",
    "from sklearn import svm\n",
    "\n",
    "from sklearn.model_selection import train_test_split\n",
    "\n",
    "from sklearn.metrics import accuracy_score\n",
    "\n",
    "import matplotlib.pyplot as plt\n",
    "\n",
    "import seaborn as sns\n",
    "\n",
    "from sklearn.decomposition import PCA\n",
    "\n",
    "from sklearn.pipeline import make_pipeline\n",
    "\n",
    "from sklearn.preprocessing import StandardScaler\n",
    "\n",
    "from sklearn.model_selection import StratifiedKFold, cross_validate\n",
    "\n",
    "from sklearn.metrics import make_scorer, f1_score\n",
    "\n",
    "from sklearn.model_selection import cross_val_score, StratifiedKFold"
   ]
  },
  {
   "cell_type": "code",
   "execution_count": 2,
   "id": "82042a34-d623-48f9-ac42-d5e480e0e318",
   "metadata": {},
   "outputs": [],
   "source": [
    "df = pd.read_csv('../datasets/final/imu_data_filtered.csv')"
   ]
  },
  {
   "cell_type": "code",
   "execution_count": 3,
   "id": "35fad27d-a4cf-4092-bfec-46df459483f5",
   "metadata": {},
   "outputs": [],
   "source": [
    "def sliding_window(df, window_size):\n",
    "    \n",
    "    groups = []\n",
    "    \n",
    "    current_group = []\n",
    "    \n",
    "    current_surface = None  \n",
    "\n",
    "    for index, row in df.iterrows():\n",
    "        \n",
    "        if current_surface is None:\n",
    "            \n",
    "            current_surface = row['surface']  \n",
    "\n",
    "        if row['surface'] == current_surface:\n",
    "            \n",
    "            current_group.append((row['filtered accelerometer'], row['gyro']))\n",
    "\n",
    "            if len(current_group) == window_size:\n",
    "                \n",
    "                groups.append((current_group, current_surface)) \n",
    "                \n",
    "                current_group = [] \n",
    "\n",
    "        else:\n",
    "            \n",
    "            if len(current_group) == window_size:\n",
    "                \n",
    "                groups.append((current_group, current_surface))\n",
    "\n",
    "            current_group = [(row['filtered accelerometer'], row['gyro'])]\n",
    "            \n",
    "            current_surface = row['surface']\n",
    "            \n",
    "    if len(current_group) == window_size:\n",
    "        \n",
    "        groups.append((current_group, current_surface))\n",
    "\n",
    "    return groups"
   ]
  },
  {
   "cell_type": "code",
   "execution_count": 4,
   "id": "0c7cedda-4de9-4fa0-8085-9fc6d3d2ffc8",
   "metadata": {},
   "outputs": [],
   "source": [
    "def calculate_mean(data):\n",
    "    \n",
    "    accelerometer_mean = np.mean([x[0] for x in data[0]])\n",
    "    \n",
    "    gyro_mean = np.mean([x[1] for x in data[0]])\n",
    "    \n",
    "    return accelerometer_mean, gyro_mean\n",
    "\n",
    "def calculate_std(data):\n",
    "    \n",
    "    accelerometer_std = np.std([x[0] for x in data[0]])  \n",
    "    \n",
    "    gyro_std = np.std([x[1] for x in data[0]]) \n",
    "    \n",
    "    return accelerometer_std, gyro_std\n",
    "\n",
    "def calculate_max(data):\n",
    "    \n",
    "    accelerometer_max = np.max([x[0] for x in data[0]]) \n",
    "    \n",
    "    gyro_max = np.max([x[1] for x in data[0]])  \n",
    "    \n",
    "    return accelerometer_max, gyro_max\n",
    "\n",
    "def calculate_min(data):\n",
    "    \n",
    "    accelerometer_min = np.min([x[0] for x in data[0]]) \n",
    "    \n",
    "    gyro_min = np.min([x[1] for x in data[0]]) \n",
    "    \n",
    "    return accelerometer_min, gyro_min\n",
    "\n",
    "def calculate_iqr(data):\n",
    "    \n",
    "    accelerometer_iqr = np.percentile([x[0] for x in data[0]], 75) - np.percentile([x[0] for x in data[0]], 25)\n",
    "    \n",
    "    gyro_iqr = np.percentile([x[1] for x in data[0]], 75) - np.percentile([x[1] for x in data[0]], 25)\n",
    "    \n",
    "    return accelerometer_iqr, gyro_iqr\n",
    "\n",
    "def calculate_skewness(data):\n",
    "    \n",
    "    accelerometer_skew = skew([x[0] for x in data[0]])\n",
    "    \n",
    "    gyro_skew = skew([x[1] for x in data[0]])\n",
    "    \n",
    "    return accelerometer_skew, gyro_skew\n",
    "\n",
    "def calculate_kurtosis(data):\n",
    "    \n",
    "    accelerometer_kurt = kurtosis([x[0] for x in data[0]])\n",
    "    \n",
    "    gyro_kurt = kurtosis([x[1] for x in data[0]])\n",
    "    \n",
    "    return accelerometer_kurt, gyro_kurt\n",
    "    \n",
    "def calculate_fft_peak(data):\n",
    "    \n",
    "    fft_acc = np.fft.fft([x[0] for x in data[0]])\n",
    "    \n",
    "    fft_gyro = np.fft.fft([x[1] for x in data[0]])\n",
    "    \n",
    "    mag_acc = np.abs(fft_acc)\n",
    "    \n",
    "    mag_gyro = np.abs(fft_gyro)\n",
    "    \n",
    "    peak_index_acc = np.argmax(mag_acc)\n",
    "    \n",
    "    peak_index_gyro = np.argmax(mag_gyro)\n",
    "    \n",
    "    peak_amplitude_acc = mag_acc[peak_index_acc]\n",
    "    \n",
    "    peak_amplitude_gyro = mag_gyro[peak_index_gyro]\n",
    "    \n",
    "    return peak_amplitude_acc, peak_amplitude_gyro\n",
    "\n",
    "def calculate_psd(data):\n",
    "    \n",
    "    accelerometer_data = np.array([x[0] for x in data[0]])\n",
    "    \n",
    "    gyro_data = np.array([x[1] for x in data[0]])\n",
    "\n",
    "    f_acc, psd_acc = welch(accelerometer_data, fs=100, nperseg=100)  \n",
    "    \n",
    "    f_gyro, psd_gyro = welch(gyro_data, fs=100, nperseg=100)  \n",
    "\n",
    "    peak_freq_acc = f_acc[np.argmax(psd_acc)]\n",
    "    \n",
    "    peak_power_acc = np.max(psd_acc)\n",
    "    \n",
    "    peak_freq_gyro = f_gyro[np.argmax(psd_gyro)]\n",
    "    \n",
    "    peak_power_gyro = np.max(psd_gyro)\n",
    "\n",
    "    return peak_freq_acc, peak_power_acc, peak_freq_gyro, peak_power_gyro\n",
    "\n",
    "def extract_surface(data):\n",
    "\n",
    "    surface = data[1]\n",
    "\n",
    "    return surface"
   ]
  },
  {
   "cell_type": "code",
   "execution_count": 5,
   "id": "78e8ec82-2f01-455f-9363-0d2348fb664d",
   "metadata": {},
   "outputs": [],
   "source": [
    "def extract_features(segments):\n",
    "    \n",
    "    features_list = []\n",
    "    \n",
    "    for segment in segments:\n",
    "\n",
    "        psd_features = calculate_psd(segment)\n",
    "        \n",
    "        features = {\n",
    "            'accelerometer_mean': calculate_mean(segment)[0],\n",
    "            'gyro_mean': calculate_mean(segment)[1],\n",
    "            'accelerometer_std': calculate_std(segment)[0],\n",
    "            'gyro_std': calculate_std(segment)[1],\n",
    "            'accelerometer_max': calculate_max(segment)[0],\n",
    "            'gyro_max': calculate_max(segment)[1],\n",
    "            'accelerometer_min': calculate_min(segment)[0],\n",
    "            'gyro_min': calculate_min(segment)[1],\n",
    "            'accelerometer_iqr': calculate_iqr(segment)[0],\n",
    "            'gyro_iqr': calculate_iqr(segment)[1],\n",
    "            'accelerometer_skewness': calculate_skewness(segment)[0],\n",
    "            'gyro_skewness': calculate_skewness(segment)[1],\n",
    "            'accelerometer_kurtosis': calculate_kurtosis(segment)[0],\n",
    "            'gyro_kurtosis': calculate_kurtosis(segment)[1],\n",
    "            'accelerometer_fft_peak_amplitude': calculate_fft_peak(segment)[0],\n",
    "            'gyro_fft_peak_amplitude': calculate_fft_peak(segment)[1],\n",
    "            'accelerometer_peak_freq': psd_features[0],\n",
    "            'accelerometer_peak_power': psd_features[1],\n",
    "            'gyro_peak_freq': psd_features[2],\n",
    "            'gyro_peak_power': psd_features[3],\n",
    "            'surface': extract_surface(segment)\n",
    "        }\n",
    "        features_list.append(features)\n",
    "    \n",
    "    return features_list"
   ]
  },
  {
   "cell_type": "code",
   "execution_count": 6,
   "id": "91cd9a48-29d7-4f36-a014-ca8f967d53c2",
   "metadata": {},
   "outputs": [],
   "source": [
    "window_size_list = range(100, 700, 100)"
   ]
  },
  {
   "cell_type": "code",
   "execution_count": 7,
   "id": "a852305d-d061-43de-99f0-6965327073b8",
   "metadata": {},
   "outputs": [],
   "source": [
    "encoder = OrdinalEncoder()\n",
    "\n",
    "scaler = StandardScaler()\n",
    "\n",
    "just_some_list = []\n",
    "\n",
    "for i in window_size_list:\n",
    "\n",
    "    window_data_list = sliding_window(df, i)\n",
    "\n",
    "    features_list = extract_features(window_data_list)\n",
    "\n",
    "    features_df = pd.DataFrame(features_list)\n",
    "\n",
    "    features_df['surface_encoded'] = encoder.fit_transform(features_df[['surface']])\n",
    "\n",
    "    features_df = features_df.drop('surface', axis = 1)\n",
    "\n",
    "    X = features_df.drop('surface_encoded', axis = 1)\n",
    "\n",
    "    y = features_df['surface_encoded']\n",
    "\n",
    "    X_train, X_test, y_train, y_test = train_test_split(X, y, test_size = 0.3, random_state = 42, stratify = y)\n",
    "\n",
    "    X_train_scaled = scaler.fit_transform(X_train)\n",
    "\n",
    "    X_test_scaled = scaler.transform(X_test)\n",
    "        \n",
    "    svm_classifier = SVC(kernel = 'linear')\n",
    "\n",
    "    svm_classifier.fit(X_train_scaled, y_train)\n",
    "\n",
    "    y_pred = svm_classifier.predict(X_test_scaled)\n",
    "\n",
    "    accuracy = accuracy_score(y_test, y_pred)\n",
    "\n",
    "    f1 = f1_score(y_test, y_pred, average='weighted')\n",
    "\n",
    "    new_list = {\n",
    "\n",
    "        'window size': i,\n",
    "\n",
    "        'accuracy' : accuracy\n",
    "\n",
    "    }\n",
    "\n",
    "    just_some_list.append(new_list) "
   ]
  },
  {
   "cell_type": "code",
   "execution_count": 8,
   "id": "50f6bd22-499e-43a0-a69d-64e07b5f07ec",
   "metadata": {},
   "outputs": [],
   "source": [
    "df2 = pd.DataFrame(just_some_list)"
   ]
  },
  {
   "cell_type": "code",
   "execution_count": 9,
   "id": "06a92472-95b4-415b-b25e-65e380c7c743",
   "metadata": {},
   "outputs": [
    {
     "data": {
      "image/png": "[encoded data removed]",
      "text/plain": [
       "<Figure size 1000x600 with 1 Axes>"
      ]
     },
     "metadata": {},
     "output_type": "display_data"
    }
   ],
   "source": [
    "plt.figure(figsize = (10,6))\n",
    "\n",
    "plt.plot(df2['window size'], df2['accuracy'])\n",
    "\n",
    "plt.xlabel('Window Size')\n",
    "\n",
    "plt.ylabel('Accuracy')\n",
    "\n",
    "plt.title('Accuracy vs Window Size')\n",
    "\n",
    "\n",
    "plt.grid(True)\n",
    "\n",
    "plt.tight_layout()\n",
    "\n",
    "plt.show()"
   ]
  },
  {
   "cell_type": "code",
   "execution_count": 10,
   "id": "4748d3cd-499d-4cd0-bb70-f4a2ae99a811",
   "metadata": {},
   "outputs": [],
   "source": [
    "window_data_list = sliding_window(df, 300)\n",
    "\n",
    "features_list = extract_features(window_data_list)"
   ]
  },
  {
   "cell_type": "code",
   "execution_count": 11,
   "id": "1cccde0a-e35c-4180-a4ba-d25fce5aa96f",
   "metadata": {},
   "outputs": [],
   "source": [
    "features_df = pd.DataFrame(features_list)"
   ]
  },
  {
   "cell_type": "code",
   "execution_count": 12,
   "id": "0ca983c9-ed99-4850-8157-302419fea912",
   "metadata": {},
   "outputs": [],
   "source": [
    "encoder = OrdinalEncoder()\n",
    "\n",
    "features_df['surface_encoded'] = encoder.fit_transform(features_df[['surface']])"
   ]
  },
  {
   "cell_type": "code",
   "execution_count": 13,
   "id": "9e999324-3361-43ef-9941-3bb605b9e36b",
   "metadata": {},
   "outputs": [],
   "source": [
    "features_df = features_df.drop('surface', axis = 1)"
   ]
  },
  {
   "cell_type": "code",
   "execution_count": 14,
   "id": "38c841f8-cdbb-4609-85c0-7b93726aa05b",
   "metadata": {},
   "outputs": [],
   "source": [
    "X = features_df.drop('surface_encoded', axis = 1)\n",
    "\n",
    "y = features_df['surface_encoded']"
   ]
  },
  {
   "cell_type": "code",
   "execution_count": 51,
   "id": "82adb772-c77b-405c-83f5-75190d7b133e",
   "metadata": {},
   "outputs": [
    {
     "name": "stdout",
     "output_type": "stream",
     "text": [
      "[0.85416667 0.89583333 0.87234043 0.95744681 0.95744681]\n",
      "0.9074468085106384\n"
     ]
    }
   ],
   "source": [
    "clf = SVC(kernel = 'linear', random_state = 42)\n",
    "\n",
    "skf = StratifiedKFold(n_splits = 5, shuffle = True, random_state = 42)\n",
    "\n",
    "pipeline = make_pipeline(StandardScaler(), clf)\n",
    "\n",
    "cv_scores = cross_val_score(pipeline, X, y, cv = skf, scoring = 'accuracy')\n",
    "\n",
    "print(cv_scores)\n",
    "\n",
    "print(np.mean(cv_scores))"
   ]
  },
  {
   "cell_type": "code",
   "execution_count": 52,
   "id": "41fc9dd6-3843-4b7f-80f2-2dd307650522",
   "metadata": {},
   "outputs": [
    {
     "name": "stdout",
     "output_type": "stream",
     "text": [
      "[0.86039966 0.89543711 0.87863636 0.95866136 0.95777778]\n",
      "0.9101824541202654\n"
     ]
    }
   ],
   "source": [
    "f1_scores = cross_val_score(pipeline, X, y, cv = skf, scoring = 'f1_macro')\n",
    "\n",
    "print(f1_scores)\n",
    "\n",
    "print(np.mean(f1_scores))"
   ]
  },
  {
   "cell_type": "code",
   "execution_count": 53,
   "id": "cf9715be-9365-4621-8105-9e60b161faab",
   "metadata": {},
   "outputs": [
    {
     "name": "stdout",
     "output_type": "stream",
     "text": [
      "Number of components explaining at least 95% of the variance: 9\n"
     ]
    },
    {
     "data": {
      "image/png": "[encoded data removed]",
      "text/plain": [
       "<Figure size 800x600 with 1 Axes>"
      ]
     },
     "metadata": {},
     "output_type": "display_data"
    }
   ],
   "source": [
    "pca = PCA()\n",
    "\n",
    "pca.fit(X_scaled)\n",
    "\n",
    "cumulative_variance = np.cumsum(pca.explained_variance_ratio_)\n",
    "\n",
    "n_components = np.argmax(cumulative_variance >= 0.95) + 1\n",
    "\n",
    "print(f\"Number of components explaining at least 95% of the variance: {n_components}\")\n",
    "\n",
    "plt.figure(figsize = (8, 6))\n",
    "\n",
    "plt.plot(np.cumsum(pca.explained_variance_ratio_))\n",
    "\n",
    "plt.xlabel('Number of Components')\n",
    "\n",
    "plt.ylabel('CUmulative Explained Variance')\n",
    "\n",
    "plt.axhline(y = 0.95, color = 'r', linestyle = '--')\n",
    "\n",
    "plt.show()"
   ]
  },
  {
   "cell_type": "code",
   "execution_count": 54,
   "id": "1d67ccc7-a4ed-4ae5-84b5-d35526e20fcc",
   "metadata": {},
   "outputs": [
    {
     "name": "stdout",
     "output_type": "stream",
     "text": [
      "[0.875      0.91666667 0.82978723 0.9787234  0.91489362]\n",
      "0.9030141843971631\n"
     ]
    }
   ],
   "source": [
    "pipeline2 = make_pipeline(StandardScaler(), PCA(n_components = 9), clf)\n",
    "\n",
    "cv_scores2 = cross_val_score(pipeline2, X, y, cv = skf, scoring = 'accuracy')\n",
    "\n",
    "print(cv_scores2)\n",
    "\n",
    "print(np.mean(cv_scores2))"
   ]
  },
  {
   "cell_type": "code",
   "execution_count": 56,
   "id": "1e0b2a3a-5c71-4f1d-86df-9a7eb2312d30",
   "metadata": {},
   "outputs": [
    {
     "name": "stdout",
     "output_type": "stream",
     "text": [
      "[0.88097046 0.91733041 0.83066865 0.97871148 0.91611111]\n",
      "0.9047584232222811\n"
     ]
    }
   ],
   "source": [
    "f1_scores2 = cross_val_score(pipeline2, X, y, cv = skf, scoring = 'f1_macro')\n",
    "\n",
    "print(f1_scores2)\n",
    "\n",
    "print(np.mean(f1_scores2))"
   ]
  },
  {
   "cell_type": "code",
   "execution_count": null,
   "id": "84d32370-b864-4f22-9655-e0304453091c",
   "metadata": {},
   "outputs": [],
   "source": []
  }
 ],
 "metadata": {
  "kernelspec": {
   "display_name": "Python 3 (ipykernel)",
   "language": "python",
   "name": "python3"
  },
  "language_info": {
   "codemirror_mode": {
    "name": "ipython",
    "version": 3
   },
   "file_extension": ".py",
   "mimetype": "text/x-python",
   "name": "python",
   "nbconvert_exporter": "python",
   "pygments_lexer": "ipython3",
   "version": "3.11.7"
  }
 },
 "nbformat": 4,
 "nbformat_minor": 5
}
